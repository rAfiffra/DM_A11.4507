{
 "cells": [
  {
   "cell_type": "markdown",
   "id": "87a6da4b",
   "metadata": {},
   "source": [
    "### Pra Pemrosesan Data"
   ]
  },
  {
   "cell_type": "code",
   "execution_count": 1,
   "id": "8f851774",
   "metadata": {
    "tags": []
   },
   "outputs": [],
   "source": [
    "import numpy as np\n",
    "import matplotlib.pyplot as plt\n",
    "import pandas as pd\n",
    "import seaborn as sns\n",
    "from sklearn.impute import SimpleImputer"
   ]
  },
  {
   "cell_type": "code",
   "execution_count": 2,
   "id": "eb0ed183-a3a6-4173-b60a-cc6732551471",
   "metadata": {},
   "outputs": [
    {
     "data": {
      "text/html": [
       "<div>\n",
       "<style scoped>\n",
       "    .dataframe tbody tr th:only-of-type {\n",
       "        vertical-align: middle;\n",
       "    }\n",
       "\n",
       "    .dataframe tbody tr th {\n",
       "        vertical-align: top;\n",
       "    }\n",
       "\n",
       "    .dataframe thead th {\n",
       "        text-align: right;\n",
       "    }\n",
       "</style>\n",
       "<table border=\"1\" class=\"dataframe\">\n",
       "  <thead>\n",
       "    <tr style=\"text-align: right;\">\n",
       "      <th></th>\n",
       "      <th>NO</th>\n",
       "      <th>NAMA</th>\n",
       "      <th>USIA</th>\n",
       "      <th>PARITAS</th>\n",
       "      <th>JARAK KELAHIRAN</th>\n",
       "      <th>RIW HIPERTENSI</th>\n",
       "      <th>RIW PE</th>\n",
       "      <th>OBESITAS</th>\n",
       "      <th>RIW DM</th>\n",
       "      <th>RIW HIPERTENSI/PE DALAM KELUARGA</th>\n",
       "      <th>SOSEK RENDAH</th>\n",
       "      <th>PE/Non PE</th>\n",
       "      <th>Unnamed: 12</th>\n",
       "    </tr>\n",
       "  </thead>\n",
       "  <tbody>\n",
       "    <tr>\n",
       "      <th>0</th>\n",
       "      <td>1</td>\n",
       "      <td>NAMA 1</td>\n",
       "      <td>23 TH</td>\n",
       "      <td>3</td>\n",
       "      <td>&lt; 2 tahun</td>\n",
       "      <td>Tidak</td>\n",
       "      <td>Tidak</td>\n",
       "      <td>Tidak</td>\n",
       "      <td>Ya</td>\n",
       "      <td>Tidak</td>\n",
       "      <td>&gt;UMR</td>\n",
       "      <td>Non PE</td>\n",
       "      <td>NaN</td>\n",
       "    </tr>\n",
       "    <tr>\n",
       "      <th>1</th>\n",
       "      <td>2</td>\n",
       "      <td>NAMA 2</td>\n",
       "      <td>29 TH</td>\n",
       "      <td>2</td>\n",
       "      <td>&lt; 2 tahun</td>\n",
       "      <td>Tidak</td>\n",
       "      <td>PEB</td>\n",
       "      <td>Tidak</td>\n",
       "      <td>Tidak</td>\n",
       "      <td>Ada</td>\n",
       "      <td>&gt;UMR</td>\n",
       "      <td>PE</td>\n",
       "      <td>NaN</td>\n",
       "    </tr>\n",
       "    <tr>\n",
       "      <th>2</th>\n",
       "      <td>3</td>\n",
       "      <td>NAMA 3</td>\n",
       "      <td>20 TH</td>\n",
       "      <td>1</td>\n",
       "      <td>anak pertama</td>\n",
       "      <td>Tidak</td>\n",
       "      <td>Tidak</td>\n",
       "      <td>Tidak</td>\n",
       "      <td>Tidak</td>\n",
       "      <td>Tidak</td>\n",
       "      <td>&gt;UMR</td>\n",
       "      <td>Non PE</td>\n",
       "      <td>NaN</td>\n",
       "    </tr>\n",
       "    <tr>\n",
       "      <th>3</th>\n",
       "      <td>4</td>\n",
       "      <td>NAMA 4</td>\n",
       "      <td>18 TH</td>\n",
       "      <td>1</td>\n",
       "      <td>anak pertama</td>\n",
       "      <td>Tidak</td>\n",
       "      <td>Tidak</td>\n",
       "      <td>Tidak</td>\n",
       "      <td>Tidak</td>\n",
       "      <td>Tidak</td>\n",
       "      <td>&gt;UMR</td>\n",
       "      <td>Non PE</td>\n",
       "      <td>NaN</td>\n",
       "    </tr>\n",
       "    <tr>\n",
       "      <th>4</th>\n",
       "      <td>5</td>\n",
       "      <td>NAMA 5</td>\n",
       "      <td>34 TH</td>\n",
       "      <td>3</td>\n",
       "      <td>&gt; 2 tahun</td>\n",
       "      <td>Tidak</td>\n",
       "      <td>Tidak</td>\n",
       "      <td>Tidak</td>\n",
       "      <td>Tidak</td>\n",
       "      <td>Tidak</td>\n",
       "      <td>&gt;UMR</td>\n",
       "      <td>Non PE</td>\n",
       "      <td>NaN</td>\n",
       "    </tr>\n",
       "    <tr>\n",
       "      <th>...</th>\n",
       "      <td>...</td>\n",
       "      <td>...</td>\n",
       "      <td>...</td>\n",
       "      <td>...</td>\n",
       "      <td>...</td>\n",
       "      <td>...</td>\n",
       "      <td>...</td>\n",
       "      <td>...</td>\n",
       "      <td>...</td>\n",
       "      <td>...</td>\n",
       "      <td>...</td>\n",
       "      <td>...</td>\n",
       "      <td>...</td>\n",
       "    </tr>\n",
       "    <tr>\n",
       "      <th>556</th>\n",
       "      <td>558</td>\n",
       "      <td>NAMA 557</td>\n",
       "      <td>40 TH</td>\n",
       "      <td>3</td>\n",
       "      <td>&gt; 2 tahun</td>\n",
       "      <td>Tidak</td>\n",
       "      <td>Tidak</td>\n",
       "      <td>Tidak</td>\n",
       "      <td>Tidak</td>\n",
       "      <td>Tidak</td>\n",
       "      <td>&gt;UMR</td>\n",
       "      <td>Non PE</td>\n",
       "      <td>NaN</td>\n",
       "    </tr>\n",
       "    <tr>\n",
       "      <th>557</th>\n",
       "      <td>559</td>\n",
       "      <td>NAMA 558</td>\n",
       "      <td>28 TH</td>\n",
       "      <td>3</td>\n",
       "      <td>&lt; 2 tahun</td>\n",
       "      <td>Tidak</td>\n",
       "      <td>Tidak</td>\n",
       "      <td>Tidak</td>\n",
       "      <td>Tidak</td>\n",
       "      <td>Tidak</td>\n",
       "      <td>&gt;UMR</td>\n",
       "      <td>Non PE</td>\n",
       "      <td>NaN</td>\n",
       "    </tr>\n",
       "    <tr>\n",
       "      <th>558</th>\n",
       "      <td>560</td>\n",
       "      <td>NAMA 559</td>\n",
       "      <td>41 TH</td>\n",
       "      <td>3</td>\n",
       "      <td>&gt; 2 tahun</td>\n",
       "      <td>Tidak</td>\n",
       "      <td>Tidak</td>\n",
       "      <td>Tidak</td>\n",
       "      <td>Tidak</td>\n",
       "      <td>Tidak</td>\n",
       "      <td>&gt;UMR</td>\n",
       "      <td>Non PE</td>\n",
       "      <td>NaN</td>\n",
       "    </tr>\n",
       "    <tr>\n",
       "      <th>559</th>\n",
       "      <td>561</td>\n",
       "      <td>NAMA 560</td>\n",
       "      <td>32 TH</td>\n",
       "      <td>2</td>\n",
       "      <td>&gt; 2 tahun</td>\n",
       "      <td>Tidak</td>\n",
       "      <td>Tidak</td>\n",
       "      <td>Tidak</td>\n",
       "      <td>Tidak</td>\n",
       "      <td>Tidak</td>\n",
       "      <td>&gt;UMR</td>\n",
       "      <td>Non PE</td>\n",
       "      <td>NaN</td>\n",
       "    </tr>\n",
       "    <tr>\n",
       "      <th>560</th>\n",
       "      <td>562</td>\n",
       "      <td>NAMA 561</td>\n",
       "      <td>30 TH</td>\n",
       "      <td>2</td>\n",
       "      <td>&gt; 2 tahun</td>\n",
       "      <td>Tidak</td>\n",
       "      <td>Tidak</td>\n",
       "      <td>Tidak</td>\n",
       "      <td>Tidak</td>\n",
       "      <td>Tidak</td>\n",
       "      <td>&gt;UMR</td>\n",
       "      <td>Non PE</td>\n",
       "      <td>NaN</td>\n",
       "    </tr>\n",
       "  </tbody>\n",
       "</table>\n",
       "<p>561 rows × 13 columns</p>\n",
       "</div>"
      ],
      "text/plain": [
       "      NO      NAMA   USIA  PARITAS JARAK KELAHIRAN RIW HIPERTENSI RIW PE  \\\n",
       "0      1    NAMA 1  23 TH        3       < 2 tahun          Tidak  Tidak   \n",
       "1      2    NAMA 2  29 TH        2       < 2 tahun          Tidak    PEB   \n",
       "2      3    NAMA 3  20 TH        1    anak pertama          Tidak  Tidak   \n",
       "3      4    NAMA 4  18 TH        1    anak pertama          Tidak  Tidak   \n",
       "4      5    NAMA 5  34 TH        3      > 2 tahun           Tidak  Tidak   \n",
       "..   ...       ...    ...      ...             ...            ...    ...   \n",
       "556  558  NAMA 557  40 TH        3      > 2 tahun           Tidak  Tidak   \n",
       "557  559  NAMA 558  28 TH        3       < 2 tahun          Tidak  Tidak   \n",
       "558  560  NAMA 559  41 TH        3      > 2 tahun           Tidak  Tidak   \n",
       "559  561  NAMA 560  32 TH        2      > 2 tahun           Tidak  Tidak   \n",
       "560  562  NAMA 561  30 TH        2      > 2 tahun           Tidak  Tidak   \n",
       "\n",
       "    OBESITAS RIW DM RIW HIPERTENSI/PE DALAM KELUARGA SOSEK RENDAH PE/Non PE  \\\n",
       "0      Tidak     Ya                            Tidak         >UMR    Non PE   \n",
       "1      Tidak  Tidak                              Ada         >UMR        PE   \n",
       "2      Tidak  Tidak                            Tidak         >UMR    Non PE   \n",
       "3      Tidak  Tidak                            Tidak         >UMR    Non PE   \n",
       "4      Tidak  Tidak                            Tidak         >UMR    Non PE   \n",
       "..       ...    ...                              ...          ...       ...   \n",
       "556    Tidak  Tidak                            Tidak         >UMR    Non PE   \n",
       "557    Tidak  Tidak                            Tidak         >UMR    Non PE   \n",
       "558    Tidak  Tidak                            Tidak         >UMR    Non PE   \n",
       "559    Tidak  Tidak                            Tidak         >UMR    Non PE   \n",
       "560    Tidak  Tidak                            Tidak         >UMR    Non PE   \n",
       "\n",
       "    Unnamed: 12  \n",
       "0           NaN  \n",
       "1           NaN  \n",
       "2           NaN  \n",
       "3           NaN  \n",
       "4           NaN  \n",
       "..          ...  \n",
       "556         NaN  \n",
       "557         NaN  \n",
       "558         NaN  \n",
       "559         NaN  \n",
       "560         NaN  \n",
       "\n",
       "[561 rows x 13 columns]"
      ]
     },
     "execution_count": 2,
     "metadata": {},
     "output_type": "execute_result"
    }
   ],
   "source": [
    "datasets = pd.read_excel('dataKasus-1.xlsx')\n",
    "datasets"
   ]
  },
  {
   "cell_type": "code",
   "execution_count": 3,
   "id": "d63933df-6639-4b6e-9e2e-30e359cf6296",
   "metadata": {},
   "outputs": [],
   "source": [
    "datasets = datasets.drop(columns=['Unnamed: 12'])"
   ]
  },
  {
   "cell_type": "code",
   "execution_count": 4,
   "id": "f35dc9cd-584a-4085-9727-c8f6e6c2f9c1",
   "metadata": {},
   "outputs": [
    {
     "name": "stdout",
     "output_type": "stream",
     "text": [
      "<class 'pandas.core.frame.DataFrame'>\n",
      "RangeIndex: 561 entries, 0 to 560\n",
      "Data columns (total 12 columns):\n",
      " #   Column                            Non-Null Count  Dtype \n",
      "---  ------                            --------------  ----- \n",
      " 0   NO                                561 non-null    int64 \n",
      " 1   NAMA                              561 non-null    object\n",
      " 2   USIA                              558 non-null    object\n",
      " 3   PARITAS                           561 non-null    int64 \n",
      " 4   JARAK KELAHIRAN                   554 non-null    object\n",
      " 5   RIW HIPERTENSI                    561 non-null    object\n",
      " 6   RIW PE                            561 non-null    object\n",
      " 7   OBESITAS                          561 non-null    object\n",
      " 8   RIW DM                            561 non-null    object\n",
      " 9   RIW HIPERTENSI/PE DALAM KELUARGA  561 non-null    object\n",
      " 10  SOSEK RENDAH                      561 non-null    object\n",
      " 11  PE/Non PE                         561 non-null    object\n",
      "dtypes: int64(2), object(10)\n",
      "memory usage: 52.7+ KB\n"
     ]
    }
   ],
   "source": [
    "datasets.columns = datasets.columns.str.strip()\n",
    "datasets.info()"
   ]
  },
  {
   "cell_type": "code",
   "execution_count": 6,
   "id": "63d62663-fa88-4908-810d-d3284c52273f",
   "metadata": {},
   "outputs": [
    {
     "name": "stdout",
     "output_type": "stream",
     "text": [
      "NO                                  0\n",
      "NAMA                                0\n",
      "USIA                                3\n",
      "PARITAS                             0\n",
      "JARAK KELAHIRAN                     7\n",
      "RIW HIPERTENSI                      0\n",
      "RIW PE                              0\n",
      "OBESITAS                            0\n",
      "RIW DM                              0\n",
      "RIW HIPERTENSI/PE DALAM KELUARGA    0\n",
      "SOSEK RENDAH                        0\n",
      "PE/Non PE                           0\n",
      "dtype: int64\n"
     ]
    }
   ],
   "source": [
    "print(datasets.isnull().sum())"
   ]
  },
  {
   "cell_type": "code",
   "execution_count": 5,
   "id": "a35035ca-f429-4878-a801-9a3c351ffae5",
   "metadata": {},
   "outputs": [
    {
     "name": "stdout",
     "output_type": "stream",
     "text": [
      "USIA\n",
      "28 TH     28\n",
      "25 TH     24\n",
      "31 TH     23\n",
      "29 TH     22\n",
      "24 TH     21\n",
      "          ..\n",
      "30 th      1\n",
      "23         1\n",
      "37         1\n",
      "39 TH      1\n",
      "14 TH      1\n",
      "Name: count, Length: 73, dtype: int64\n"
     ]
    }
   ],
   "source": [
    "# Mengubah data menjadi string dan menghitung nilai unik\n",
    "value_counts = datasets['USIA'].astype(str).value_counts(dropna=False)\n",
    "\n",
    "print(value_counts)"
   ]
  },
  {
   "cell_type": "code",
   "execution_count": 7,
   "id": "0ab8882d-8ea6-4eaf-bde6-e9f61b976fd8",
   "metadata": {},
   "outputs": [],
   "source": [
    "# Mengisi nilai NaN dengan string kosong\n",
    "datasets['USIA'] = datasets['USIA'].fillna('')\n",
    "\n",
    "# Menghapus spasi ekstra dan mengambil angka\n",
    "datasets['USIA'] = datasets['USIA'].str.strip().str.extract('(\\d+)')[0]\n",
    "\n",
    "# Mengonversi ke tipe data numerik\n",
    "datasets['USIA'] = pd.to_numeric(datasets['USIA'], errors='coerce')\n",
    "\n",
    "# Mengisi nilai NaN dengan rata-rata usia\n",
    "datasets['USIA'] = datasets['USIA'].fillna(datasets['USIA'].mean())"
   ]
  },
  {
   "cell_type": "code",
   "execution_count": 8,
   "id": "a4eb3bce-bacc-4950-bc69-c878b196cb11",
   "metadata": {},
   "outputs": [
    {
     "name": "stdout",
     "output_type": "stream",
     "text": [
      "USIA\n",
      "31.0                  41\n",
      "28.0                  41\n",
      "26.0                  35\n",
      "25.0                  35\n",
      "22.0                  35\n",
      "29.0                  34\n",
      "24.0                  33\n",
      "27.0                  27\n",
      "23.0                  25\n",
      "30.0                  25\n",
      "33.0                  23\n",
      "21.0                  21\n",
      "32.0                  20\n",
      "20.0                  20\n",
      "36.0                  18\n",
      "35.0                  17\n",
      "38.0                  15\n",
      "28.195612431444243    14\n",
      "34.0                  14\n",
      "41.0                  11\n",
      "39.0                  11\n",
      "19.0                  10\n",
      "37.0                   9\n",
      "40.0                   8\n",
      "17.0                   5\n",
      "18.0                   5\n",
      "15.0                   3\n",
      "16.0                   2\n",
      "43.0                   2\n",
      "13.0                   1\n",
      "14.0                   1\n",
      "Name: count, dtype: int64\n"
     ]
    }
   ],
   "source": [
    "# Mengubah data menjadi string dan menghitung nilai unik\n",
    "value_counts = datasets['USIA'].astype(str).value_counts(dropna=False)\n",
    "\n",
    "print(value_counts)"
   ]
  },
  {
   "cell_type": "code",
   "execution_count": 9,
   "id": "2238e895-819a-461c-8791-f4b24f4ebd5e",
   "metadata": {},
   "outputs": [
    {
     "name": "stdout",
     "output_type": "stream",
     "text": [
      "PARITAS\n",
      "1    228\n",
      "2    186\n",
      "3     82\n",
      "0     39\n",
      "4     20\n",
      "5      3\n",
      "6      3\n",
      "Name: count, dtype: int64\n"
     ]
    }
   ],
   "source": [
    "# Mengubah data menjadi string dan menghitung nilai unik\n",
    "value_counts = datasets['PARITAS'].astype(str).value_counts(dropna=False)\n",
    "print(value_counts)"
   ]
  },
  {
   "cell_type": "code",
   "execution_count": 10,
   "id": "23eaf977-e4cf-4b41-8020-d1ece26f510e",
   "metadata": {},
   "outputs": [
    {
     "name": "stdout",
     "output_type": "stream",
     "text": [
      "JARAK KELAHIRAN\n",
      "anak pertama    260\n",
      "> 2 tahun       211\n",
      "< 2 tahun        81\n",
      "nan               7\n",
      "> 2 tahun         2\n",
      "Name: count, dtype: int64\n"
     ]
    }
   ],
   "source": [
    "# Mengubah data menjadi string dan menghitung nilai unik\n",
    "value_counts = datasets['JARAK KELAHIRAN'].astype(str).value_counts(dropna=False)\n",
    "\n",
    "print(value_counts)"
   ]
  },
  {
   "cell_type": "code",
   "execution_count": 11,
   "id": "aa9fbe78-8269-468b-b237-d8f4ac51b20e",
   "metadata": {},
   "outputs": [],
   "source": [
    "imputer = SimpleImputer(strategy='most_frequent')\n",
    "from sklearn.preprocessing import LabelEncoder\n",
    "\n",
    "datasets['JARAK KELAHIRAN'] = imputer.fit_transform(datasets[['JARAK KELAHIRAN']]).ravel()\n",
    "# Mengganti nilai '> 2 tahun ' dengan '> 2 tahun'\n",
    "datasets['JARAK KELAHIRAN'] = datasets['JARAK KELAHIRAN'].replace('> 2 tahun ', '> 2 tahun')"
   ]
  },
  {
   "cell_type": "code",
   "execution_count": 12,
   "id": "810bb5db-a9da-4c7c-899c-0d8a474988f1",
   "metadata": {},
   "outputs": [
    {
     "name": "stdout",
     "output_type": "stream",
     "text": [
      "JARAK KELAHIRAN\n",
      "anak pertama    267\n",
      "> 2 tahun       213\n",
      "< 2 tahun        81\n",
      "Name: count, dtype: int64\n"
     ]
    }
   ],
   "source": [
    "# Mengubah data menjadi string dan menghitung nilai unik\n",
    "value_counts = datasets['JARAK KELAHIRAN'].astype(str).value_counts(dropna=False)\n",
    "\n",
    "print(value_counts)"
   ]
  },
  {
   "cell_type": "code",
   "execution_count": 13,
   "id": "8b5e64ff-3eeb-4cd6-96a7-75a33faccf49",
   "metadata": {},
   "outputs": [
    {
     "name": "stdout",
     "output_type": "stream",
     "text": [
      "RIW HIPERTENSI\n",
      "Tidak    508\n",
      "Ya        53\n",
      "Name: count, dtype: int64\n"
     ]
    }
   ],
   "source": [
    "# Mengubah data menjadi string dan menghitung nilai unik\n",
    "value_counts = datasets['RIW HIPERTENSI'].astype(str).value_counts(dropna=False)\n",
    "\n",
    "print(value_counts)"
   ]
  },
  {
   "cell_type": "code",
   "execution_count": 14,
   "id": "7bea9b35-db8e-442d-96f9-753e6865579a",
   "metadata": {},
   "outputs": [
    {
     "name": "stdout",
     "output_type": "stream",
     "text": [
      "RIW PE\n",
      "Tidak                     526\n",
      "PEB                        19\n",
      "PE                          6\n",
      "HELLP SYNDROM               2\n",
      "Impending PE                2\n",
      "Impending Eklamsia          1\n",
      "Kejang Konvulsi             1\n",
      "impending eklamsia          1\n",
      "PE, HELLP Syndrome          1\n",
      "PEB impending eklampsi      1\n",
      "Impending Ekalmsia          1\n",
      "Name: count, dtype: int64\n"
     ]
    }
   ],
   "source": [
    "# Mengubah data menjadi string dan menghitung nilai unik\n",
    "value_counts = datasets['RIW PE'].astype(str).value_counts(dropna=False)\n",
    "\n",
    "print(value_counts)"
   ]
  },
  {
   "cell_type": "code",
   "execution_count": 15,
   "id": "3f43dfa0-5e73-4f4a-ac97-479997ba83e4",
   "metadata": {},
   "outputs": [],
   "source": [
    "datasets['RIW PE'] = datasets['RIW PE'].replace(\n",
    "    to_replace=['PEB', 'PE', 'HELLP SYNDROM', 'Impending PE', 'Impending Eklamsia', 'PE, HELLP Syndrome', 'PEB impending eklampsi', 'Impending Ekalmsia', 'Kejang Konvulsi', 'impending eklamsia'],\n",
    "    value='Ada'\n",
    ")"
   ]
  },
  {
   "cell_type": "code",
   "execution_count": 16,
   "id": "03e2e677-2a5c-4ddb-83d5-de1264cf6c72",
   "metadata": {},
   "outputs": [
    {
     "name": "stdout",
     "output_type": "stream",
     "text": [
      "RIW PE\n",
      "Tidak    526\n",
      "Ada       35\n",
      "Name: count, dtype: int64\n"
     ]
    }
   ],
   "source": [
    "# Mengubah data menjadi string dan menghitung nilai unik\n",
    "value_counts = datasets['RIW PE'].astype(str).value_counts(dropna=False)\n",
    "\n",
    "print(value_counts)"
   ]
  },
  {
   "cell_type": "code",
   "execution_count": 17,
   "id": "4ac52684-9b43-4712-8ec6-3e790ae9e9ec",
   "metadata": {},
   "outputs": [
    {
     "name": "stdout",
     "output_type": "stream",
     "text": [
      "OBESITAS\n",
      "Tidak    556\n",
      "Ya         5\n",
      "Name: count, dtype: int64\n"
     ]
    }
   ],
   "source": [
    "# Mengubah data menjadi string dan menghitung nilai unik\n",
    "value_counts = datasets['OBESITAS'].astype(str).value_counts(dropna=False)\n",
    "\n",
    "print(value_counts)"
   ]
  },
  {
   "cell_type": "code",
   "execution_count": 18,
   "id": "dac513f0-b9f7-40ea-93c2-758fe31c4d31",
   "metadata": {},
   "outputs": [
    {
     "name": "stdout",
     "output_type": "stream",
     "text": [
      "RIW DM\n",
      "Tidak    556\n",
      "Ya         5\n",
      "Name: count, dtype: int64\n"
     ]
    }
   ],
   "source": [
    "# Mengubah data menjadi string dan menghitung nilai unik\n",
    "value_counts = datasets['RIW DM'].astype(str).value_counts(dropna=False)\n",
    "\n",
    "print(value_counts)"
   ]
  },
  {
   "cell_type": "code",
   "execution_count": 19,
   "id": "62a00c14-cd14-47b4-bd11-59cae96d40a2",
   "metadata": {},
   "outputs": [
    {
     "name": "stdout",
     "output_type": "stream",
     "text": [
      "RIW HIPERTENSI/PE DALAM KELUARGA\n",
      "Tidak    550\n",
      "Ada       11\n",
      "Name: count, dtype: int64\n"
     ]
    }
   ],
   "source": [
    "value_counts = datasets['RIW HIPERTENSI/PE DALAM KELUARGA'].astype(str).value_counts(dropna=False)\n",
    "\n",
    "print(value_counts)"
   ]
  },
  {
   "cell_type": "code",
   "execution_count": 20,
   "id": "c1ed4354-2dd1-48c2-8536-f433fea279a1",
   "metadata": {},
   "outputs": [
    {
     "name": "stdout",
     "output_type": "stream",
     "text": [
      "SOSEK RENDAH\n",
      ">UMR    557\n",
      "<UMR      4\n",
      "Name: count, dtype: int64\n"
     ]
    }
   ],
   "source": [
    "value_counts = datasets['SOSEK RENDAH'].astype(str).value_counts(dropna=False)\n",
    "\n",
    "print(value_counts)"
   ]
  },
  {
   "cell_type": "code",
   "execution_count": 21,
   "id": "0b13e5b5-b24d-4750-a01e-eba78464ab00",
   "metadata": {},
   "outputs": [
    {
     "name": "stdout",
     "output_type": "stream",
     "text": [
      "PE/Non PE\n",
      "Non PE                    520\n",
      "PEB                        20\n",
      "PE                         17\n",
      "Eklamsia                    1\n",
      "PE gemelli                  1\n",
      "PEB impending eklampsi      1\n",
      "PE                          1\n",
      "Name: count, dtype: int64\n"
     ]
    }
   ],
   "source": [
    "value_counts = datasets['PE/Non PE'].astype(str).value_counts(dropna=False)\n",
    "\n",
    "print(value_counts)"
   ]
  },
  {
   "cell_type": "code",
   "execution_count": 22,
   "id": "23034bda-af3b-44a8-9814-81d83041deb7",
   "metadata": {},
   "outputs": [],
   "source": [
    "datasets['PE/Non PE'] = datasets['PE/Non PE'].replace(\n",
    "    to_replace=['PEB', 'PE', 'Eklamsia', 'PE gemelli', 'PEB impending eklampsi', 'PE '],\n",
    "    value='PE'\n",
    ")"
   ]
  },
  {
   "cell_type": "code",
   "execution_count": 23,
   "id": "1b078154-75ab-4703-8b61-0721aaf06617",
   "metadata": {},
   "outputs": [
    {
     "name": "stdout",
     "output_type": "stream",
     "text": [
      "PE/Non PE\n",
      "Non PE    520\n",
      "PE         41\n",
      "Name: count, dtype: int64\n"
     ]
    }
   ],
   "source": [
    "value_counts = datasets['PE/Non PE'].astype(str).value_counts(dropna=False)\n",
    "\n",
    "print(value_counts)"
   ]
  },
  {
   "cell_type": "code",
   "execution_count": 24,
   "id": "86053c65-a14c-4a48-92f3-904d834db8b8",
   "metadata": {},
   "outputs": [
    {
     "data": {
      "image/png": "[encoded data removed]",
      "text/plain": [
       "<Figure size 640x480 with 1 Axes>"
      ]
     },
     "metadata": {},
     "output_type": "display_data"
    }
   ],
   "source": [
    "import pandas as pd\n",
    "import matplotlib.pyplot as plt\n",
    "\n",
    "value_counts = datasets['PE/Non PE'].value_counts()\n",
    "\n",
    "# Create a bar chart\n",
    "ax = value_counts.plot(kind='bar', color=['skyblue', 'orange'])\n",
    "\n",
    "# Add title and labels\n",
    "plt.title('PE/Non PE Distribution')\n",
    "plt.xlabel('Category')\n",
    "plt.ylabel('Count')\n",
    "\n",
    "# Add count labels on top of each bar\n",
    "for i, count in enumerate(value_counts):\n",
    "    ax.text(i, count , str(count), ha='center', va='bottom')\n",
    "\n",
    "# Display the bar chart\n",
    "plt.show()"
   ]
  },
  {
   "cell_type": "code",
   "execution_count": 25,
   "id": "01f17db7-4c22-4de5-9a8f-ecdcfc069e13",
   "metadata": {},
   "outputs": [
    {
     "name": "stdout",
     "output_type": "stream",
     "text": [
      "<class 'pandas.core.frame.DataFrame'>\n",
      "RangeIndex: 561 entries, 0 to 560\n",
      "Data columns (total 12 columns):\n",
      " #   Column                            Non-Null Count  Dtype  \n",
      "---  ------                            --------------  -----  \n",
      " 0   NO                                561 non-null    int64  \n",
      " 1   NAMA                              561 non-null    object \n",
      " 2   USIA                              561 non-null    float64\n",
      " 3   PARITAS                           561 non-null    int64  \n",
      " 4   JARAK KELAHIRAN                   561 non-null    object \n",
      " 5   RIW HIPERTENSI                    561 non-null    object \n",
      " 6   RIW PE                            561 non-null    object \n",
      " 7   OBESITAS                          561 non-null    object \n",
      " 8   RIW DM                            561 non-null    object \n",
      " 9   RIW HIPERTENSI/PE DALAM KELUARGA  561 non-null    object \n",
      " 10  SOSEK RENDAH                      561 non-null    object \n",
      " 11  PE/Non PE                         561 non-null    object \n",
      "dtypes: float64(1), int64(2), object(9)\n",
      "memory usage: 52.7+ KB\n"
     ]
    }
   ],
   "source": [
    "datasets.info()"
   ]
  },
  {
   "cell_type": "markdown",
   "id": "506ed822-e8cc-467c-87d6-f2d0d01f1c36",
   "metadata": {},
   "source": [
    "## Konversi Nilai ke Numerik"
   ]
  },
  {
   "cell_type": "code",
   "execution_count": 26,
   "id": "3280205b-7c77-4af9-acde-1e3e3550b78d",
   "metadata": {},
   "outputs": [],
   "source": [
    "# label_encoder = LabelEncoder()\n",
    "# datasets['PARITAS'] = label_encoder.fit_transform(datasets['PARITAS'])"
   ]
  },
  {
   "cell_type": "code",
   "execution_count": 27,
   "id": "99c82eb4-4c63-4422-9565-e63185c66988",
   "metadata": {},
   "outputs": [
    {
     "name": "stdout",
     "output_type": "stream",
     "text": [
      "PARITAS\n",
      "1    228\n",
      "2    186\n",
      "3     82\n",
      "0     39\n",
      "4     20\n",
      "5      3\n",
      "6      3\n",
      "Name: count, dtype: int64\n"
     ]
    }
   ],
   "source": [
    "# Mengubah data menjadi string dan menghitung nilai unik\n",
    "value_counts = datasets['PARITAS'].astype(str).value_counts(dropna=False)\n",
    "\n",
    "print(value_counts)"
   ]
  },
  {
   "cell_type": "code",
   "execution_count": 28,
   "id": "97be9883-0b5c-43ee-a858-e60a883b8bf0",
   "metadata": {},
   "outputs": [],
   "source": [
    "label_encoder = LabelEncoder()\n",
    "datasets['JARAK KELAHIRAN'] = label_encoder.fit_transform(datasets['JARAK KELAHIRAN'])"
   ]
  },
  {
   "cell_type": "code",
   "execution_count": 29,
   "id": "76c8b545-9117-4067-aa4d-039334ded7a3",
   "metadata": {},
   "outputs": [
    {
     "name": "stdout",
     "output_type": "stream",
     "text": [
      "JARAK KELAHIRAN\n",
      "2    267\n",
      "1    213\n",
      "0     81\n",
      "Name: count, dtype: int64\n"
     ]
    }
   ],
   "source": [
    "# Mengubah data menjadi string dan menghitung nilai unik\n",
    "value_counts = datasets['JARAK KELAHIRAN'].astype(str).value_counts(dropna=False)\n",
    "\n",
    "print(value_counts)"
   ]
  },
  {
   "cell_type": "code",
   "execution_count": 30,
   "id": "3ceeebeb-8f67-4724-9e5d-b0aded6f1eae",
   "metadata": {},
   "outputs": [],
   "source": [
    "from sklearn.preprocessing import OneHotEncoder"
   ]
  },
  {
   "cell_type": "code",
   "execution_count": 31,
   "id": "48206c34-5c55-44a0-a44f-1a9bfe07aa00",
   "metadata": {},
   "outputs": [],
   "source": [
    "# Inisialisasi OneHotEncoder\n",
    "encoder = OneHotEncoder(sparse_output=False)  # sparse_output=False agar output berupa array, bukan sparse matrix\n",
    "\n",
    "# Terapkan OneHotEncoder\n",
    "one_hot_encoded = encoder.fit_transform(datasets[['RIW HIPERTENSI']])\n",
    "\n",
    "# Dapatkan nama kolom baru dari encoder\n",
    "one_hot_columns = encoder.get_feature_names_out(['RIW HIPERTENSI'])\n",
    "\n",
    "# Buat DataFrame baru dari hasil One-Hot Encoding\n",
    "one_hot_df = pd.DataFrame(one_hot_encoded, columns=one_hot_columns)\n",
    "\n",
    "# Gabungkan dengan DataFrame asli (atau gantikan kolom asli)\n",
    "datasets = pd.concat([datasets.drop('RIW HIPERTENSI', axis=1), one_hot_df], axis=1)"
   ]
  },
  {
   "cell_type": "code",
   "execution_count": 32,
   "id": "37b645a7-6630-450e-8861-be1f0353e1a0",
   "metadata": {},
   "outputs": [],
   "source": [
    "# Inisialisasi OneHotEncoder\n",
    "encoder = OneHotEncoder(sparse_output=False)  # sparse_output=False agar output berupa array, bukan sparse matrix\n",
    "\n",
    "# Terapkan OneHotEncoder\n",
    "one_hot_encoded = encoder.fit_transform(datasets[['RIW PE']])\n",
    "\n",
    "# Dapatkan nama kolom baru dari encoder\n",
    "one_hot_columns = encoder.get_feature_names_out(['RIW PE'])\n",
    "\n",
    "# Buat DataFrame baru dari hasil One-Hot Encoding\n",
    "one_hot_df = pd.DataFrame(one_hot_encoded, columns=one_hot_columns)\n",
    "\n",
    "# Gabungkan dengan DataFrame asli (atau gantikan kolom asli)\n",
    "datasets = pd.concat([datasets.drop('RIW PE', axis=1), one_hot_df], axis=1)"
   ]
  },
  {
   "cell_type": "code",
   "execution_count": 33,
   "id": "0738b8e1-5481-442c-a812-6dc5d0d13a96",
   "metadata": {},
   "outputs": [],
   "source": [
    "# Inisialisasi OneHotEncoder\n",
    "encoder = OneHotEncoder(sparse_output=False)  # sparse_output=False agar output berupa array, bukan sparse matrix\n",
    "\n",
    "# Terapkan OneHotEncoder\n",
    "one_hot_encoded = encoder.fit_transform(datasets[['OBESITAS']])\n",
    "\n",
    "# Dapatkan nama kolom baru dari encoder\n",
    "one_hot_columns = encoder.get_feature_names_out(['OBESITAS'])\n",
    "\n",
    "# Buat DataFrame baru dari hasil One-Hot Encoding\n",
    "one_hot_df = pd.DataFrame(one_hot_encoded, columns=one_hot_columns)\n",
    "\n",
    "# Gabungkan dengan DataFrame asli (atau gantikan kolom asli)\n",
    "datasets = pd.concat([datasets.drop('OBESITAS', axis=1), one_hot_df], axis=1)"
   ]
  },
  {
   "cell_type": "code",
   "execution_count": 34,
   "id": "5cf3f046-f0c6-4a81-a636-dd6fa150697d",
   "metadata": {},
   "outputs": [],
   "source": [
    "# Inisialisasi OneHotEncoder\n",
    "encoder = OneHotEncoder(sparse_output=False)  # sparse_output=False agar output berupa array, bukan sparse matrix\n",
    "\n",
    "# Terapkan OneHotEncoder\n",
    "one_hot_encoded = encoder.fit_transform(datasets[['RIW DM']])\n",
    "\n",
    "# Dapatkan nama kolom baru dari encoder\n",
    "one_hot_columns = encoder.get_feature_names_out(['RIW DM'])\n",
    "\n",
    "# Buat DataFrame baru dari hasil One-Hot Encoding\n",
    "one_hot_df = pd.DataFrame(one_hot_encoded, columns=one_hot_columns)\n",
    "\n",
    "# Gabungkan dengan DataFrame asli (atau gantikan kolom asli)\n",
    "datasets = pd.concat([datasets.drop('RIW DM', axis=1), one_hot_df], axis=1)"
   ]
  },
  {
   "cell_type": "code",
   "execution_count": 35,
   "id": "4376d1f7-4a08-4a9b-b751-124a67fddf18",
   "metadata": {},
   "outputs": [],
   "source": [
    "# datasets['RIW HIPERTENSI/PE DALAM KELUARGA'] = label_encoder.fit_transform(datasets['RIW HIPERTENSI/PE DALAM KELUARGA'])\n",
    "\n",
    "# Inisialisasi OneHotEncoder\n",
    "encoder = OneHotEncoder(sparse_output=False)  # sparse_output=False agar output berupa array, bukan sparse matrix\n",
    "\n",
    "# Terapkan OneHotEncoder\n",
    "one_hot_encoded = encoder.fit_transform(datasets[['RIW HIPERTENSI/PE DALAM KELUARGA']])\n",
    "\n",
    "# Dapatkan nama kolom baru dari encoder\n",
    "one_hot_columns = encoder.get_feature_names_out(['RIW HIPERTENSI/PE DALAM KELUARGA'])\n",
    "\n",
    "# Buat DataFrame baru dari hasil One-Hot Encoding\n",
    "one_hot_df = pd.DataFrame(one_hot_encoded, columns=one_hot_columns)\n",
    "\n",
    "# Gabungkan dengan DataFrame asli (atau gantikan kolom asli)\n",
    "datasets = pd.concat([datasets.drop('RIW HIPERTENSI/PE DALAM KELUARGA', axis=1), one_hot_df], axis=1)"
   ]
  },
  {
   "cell_type": "code",
   "execution_count": 36,
   "id": "23fcd00e-be01-4b5f-912b-afa0851e6cb1",
   "metadata": {},
   "outputs": [],
   "source": [
    "# datasets['SOSEK RENDAH'] = label_encoder.fit_transform(datasets['SOSEK RENDAH'])\n",
    "\n",
    "# Inisialisasi OneHotEncoder\n",
    "encoder = OneHotEncoder(sparse_output=False)  # sparse_output=False agar output berupa array, bukan sparse matrix\n",
    "\n",
    "# Terapkan OneHotEncoder\n",
    "one_hot_encoded = encoder.fit_transform(datasets[['SOSEK RENDAH']])\n",
    "\n",
    "# Dapatkan nama kolom baru dari encoder\n",
    "one_hot_columns = encoder.get_feature_names_out(['SOSEK RENDAH'])\n",
    "\n",
    "# Buat DataFrame baru dari hasil One-Hot Encoding\n",
    "one_hot_df = pd.DataFrame(one_hot_encoded, columns=one_hot_columns)\n",
    "\n",
    "# Gabungkan dengan DataFrame asli (atau gantikan kolom asli)\n",
    "datasets = pd.concat([datasets.drop('SOSEK RENDAH', axis=1), one_hot_df], axis=1)"
   ]
  },
  {
   "cell_type": "code",
   "execution_count": 37,
   "id": "af80d617-10c0-4c04-aa89-f49ca9ad5177",
   "metadata": {},
   "outputs": [],
   "source": [
    "datasets['PE/Non PE'] = label_encoder.fit_transform(datasets['PE/Non PE'])"
   ]
  },
  {
   "cell_type": "code",
   "execution_count": 38,
   "id": "797f8589-7dc8-49e7-a2f8-8659031757ea",
   "metadata": {},
   "outputs": [
    {
     "name": "stdout",
     "output_type": "stream",
     "text": [
      "PE/Non PE\n",
      "0    520\n",
      "1     41\n",
      "Name: count, dtype: int64\n"
     ]
    }
   ],
   "source": [
    "value_counts = datasets['PE/Non PE'].astype(str).value_counts(dropna=False)\n",
    "\n",
    "print(value_counts)"
   ]
  },
  {
   "cell_type": "code",
   "execution_count": 39,
   "id": "ac7b4492-1404-4827-a673-3c27cf0c4d36",
   "metadata": {},
   "outputs": [
    {
     "name": "stdout",
     "output_type": "stream",
     "text": [
      "<class 'pandas.core.frame.DataFrame'>\n",
      "RangeIndex: 561 entries, 0 to 560\n",
      "Data columns (total 18 columns):\n",
      " #   Column                                  Non-Null Count  Dtype  \n",
      "---  ------                                  --------------  -----  \n",
      " 0   NO                                      561 non-null    int64  \n",
      " 1   NAMA                                    561 non-null    object \n",
      " 2   USIA                                    561 non-null    float64\n",
      " 3   PARITAS                                 561 non-null    int64  \n",
      " 4   JARAK KELAHIRAN                         561 non-null    int64  \n",
      " 5   PE/Non PE                               561 non-null    int64  \n",
      " 6   RIW HIPERTENSI_Tidak                    561 non-null    float64\n",
      " 7   RIW HIPERTENSI_Ya                       561 non-null    float64\n",
      " 8   RIW PE_Ada                              561 non-null    float64\n",
      " 9   RIW PE_Tidak                            561 non-null    float64\n",
      " 10  OBESITAS_Tidak                          561 non-null    float64\n",
      " 11  OBESITAS_Ya                             561 non-null    float64\n",
      " 12  RIW DM_Tidak                            561 non-null    float64\n",
      " 13  RIW DM_Ya                               561 non-null    float64\n",
      " 14  RIW HIPERTENSI/PE DALAM KELUARGA_Ada    561 non-null    float64\n",
      " 15  RIW HIPERTENSI/PE DALAM KELUARGA_Tidak  561 non-null    float64\n",
      " 16  SOSEK RENDAH_<UMR                       561 non-null    float64\n",
      " 17  SOSEK RENDAH_>UMR                       561 non-null    float64\n",
      "dtypes: float64(13), int64(4), object(1)\n",
      "memory usage: 79.0+ KB\n"
     ]
    }
   ],
   "source": [
    "datasets.info()"
   ]
  },
  {
   "cell_type": "code",
   "execution_count": 40,
   "id": "e6f0fb83-383d-4d80-a5b8-b4d66af2fb23",
   "metadata": {},
   "outputs": [
    {
     "data": {
      "text/html": [
       "<div>\n",
       "<style scoped>\n",
       "    .dataframe tbody tr th:only-of-type {\n",
       "        vertical-align: middle;\n",
       "    }\n",
       "\n",
       "    .dataframe tbody tr th {\n",
       "        vertical-align: top;\n",
       "    }\n",
       "\n",
       "    .dataframe thead th {\n",
       "        text-align: right;\n",
       "    }\n",
       "</style>\n",
       "<table border=\"1\" class=\"dataframe\">\n",
       "  <thead>\n",
       "    <tr style=\"text-align: right;\">\n",
       "      <th></th>\n",
       "      <th>NO</th>\n",
       "      <th>NAMA</th>\n",
       "      <th>USIA</th>\n",
       "      <th>PARITAS</th>\n",
       "      <th>JARAK KELAHIRAN</th>\n",
       "      <th>PE/Non PE</th>\n",
       "      <th>RIW HIPERTENSI_Tidak</th>\n",
       "      <th>RIW HIPERTENSI_Ya</th>\n",
       "      <th>RIW PE_Ada</th>\n",
       "      <th>RIW PE_Tidak</th>\n",
       "      <th>OBESITAS_Tidak</th>\n",
       "      <th>OBESITAS_Ya</th>\n",
       "      <th>RIW DM_Tidak</th>\n",
       "      <th>RIW DM_Ya</th>\n",
       "      <th>RIW HIPERTENSI/PE DALAM KELUARGA_Ada</th>\n",
       "      <th>RIW HIPERTENSI/PE DALAM KELUARGA_Tidak</th>\n",
       "      <th>SOSEK RENDAH_&lt;UMR</th>\n",
       "      <th>SOSEK RENDAH_&gt;UMR</th>\n",
       "    </tr>\n",
       "  </thead>\n",
       "  <tbody>\n",
       "    <tr>\n",
       "      <th>0</th>\n",
       "      <td>1</td>\n",
       "      <td>NAMA 1</td>\n",
       "      <td>23.0</td>\n",
       "      <td>3</td>\n",
       "      <td>0</td>\n",
       "      <td>0</td>\n",
       "      <td>1.0</td>\n",
       "      <td>0.0</td>\n",
       "      <td>0.0</td>\n",
       "      <td>1.0</td>\n",
       "      <td>1.0</td>\n",
       "      <td>0.0</td>\n",
       "      <td>0.0</td>\n",
       "      <td>1.0</td>\n",
       "      <td>0.0</td>\n",
       "      <td>1.0</td>\n",
       "      <td>0.0</td>\n",
       "      <td>1.0</td>\n",
       "    </tr>\n",
       "    <tr>\n",
       "      <th>1</th>\n",
       "      <td>2</td>\n",
       "      <td>NAMA 2</td>\n",
       "      <td>29.0</td>\n",
       "      <td>2</td>\n",
       "      <td>0</td>\n",
       "      <td>1</td>\n",
       "      <td>1.0</td>\n",
       "      <td>0.0</td>\n",
       "      <td>1.0</td>\n",
       "      <td>0.0</td>\n",
       "      <td>1.0</td>\n",
       "      <td>0.0</td>\n",
       "      <td>1.0</td>\n",
       "      <td>0.0</td>\n",
       "      <td>1.0</td>\n",
       "      <td>0.0</td>\n",
       "      <td>0.0</td>\n",
       "      <td>1.0</td>\n",
       "    </tr>\n",
       "    <tr>\n",
       "      <th>2</th>\n",
       "      <td>3</td>\n",
       "      <td>NAMA 3</td>\n",
       "      <td>20.0</td>\n",
       "      <td>1</td>\n",
       "      <td>2</td>\n",
       "      <td>0</td>\n",
       "      <td>1.0</td>\n",
       "      <td>0.0</td>\n",
       "      <td>0.0</td>\n",
       "      <td>1.0</td>\n",
       "      <td>1.0</td>\n",
       "      <td>0.0</td>\n",
       "      <td>1.0</td>\n",
       "      <td>0.0</td>\n",
       "      <td>0.0</td>\n",
       "      <td>1.0</td>\n",
       "      <td>0.0</td>\n",
       "      <td>1.0</td>\n",
       "    </tr>\n",
       "    <tr>\n",
       "      <th>3</th>\n",
       "      <td>4</td>\n",
       "      <td>NAMA 4</td>\n",
       "      <td>18.0</td>\n",
       "      <td>1</td>\n",
       "      <td>2</td>\n",
       "      <td>0</td>\n",
       "      <td>1.0</td>\n",
       "      <td>0.0</td>\n",
       "      <td>0.0</td>\n",
       "      <td>1.0</td>\n",
       "      <td>1.0</td>\n",
       "      <td>0.0</td>\n",
       "      <td>1.0</td>\n",
       "      <td>0.0</td>\n",
       "      <td>0.0</td>\n",
       "      <td>1.0</td>\n",
       "      <td>0.0</td>\n",
       "      <td>1.0</td>\n",
       "    </tr>\n",
       "    <tr>\n",
       "      <th>4</th>\n",
       "      <td>5</td>\n",
       "      <td>NAMA 5</td>\n",
       "      <td>34.0</td>\n",
       "      <td>3</td>\n",
       "      <td>1</td>\n",
       "      <td>0</td>\n",
       "      <td>1.0</td>\n",
       "      <td>0.0</td>\n",
       "      <td>0.0</td>\n",
       "      <td>1.0</td>\n",
       "      <td>1.0</td>\n",
       "      <td>0.0</td>\n",
       "      <td>1.0</td>\n",
       "      <td>0.0</td>\n",
       "      <td>0.0</td>\n",
       "      <td>1.0</td>\n",
       "      <td>0.0</td>\n",
       "      <td>1.0</td>\n",
       "    </tr>\n",
       "    <tr>\n",
       "      <th>...</th>\n",
       "      <td>...</td>\n",
       "      <td>...</td>\n",
       "      <td>...</td>\n",
       "      <td>...</td>\n",
       "      <td>...</td>\n",
       "      <td>...</td>\n",
       "      <td>...</td>\n",
       "      <td>...</td>\n",
       "      <td>...</td>\n",
       "      <td>...</td>\n",
       "      <td>...</td>\n",
       "      <td>...</td>\n",
       "      <td>...</td>\n",
       "      <td>...</td>\n",
       "      <td>...</td>\n",
       "      <td>...</td>\n",
       "      <td>...</td>\n",
       "      <td>...</td>\n",
       "    </tr>\n",
       "    <tr>\n",
       "      <th>556</th>\n",
       "      <td>558</td>\n",
       "      <td>NAMA 557</td>\n",
       "      <td>40.0</td>\n",
       "      <td>3</td>\n",
       "      <td>1</td>\n",
       "      <td>0</td>\n",
       "      <td>1.0</td>\n",
       "      <td>0.0</td>\n",
       "      <td>0.0</td>\n",
       "      <td>1.0</td>\n",
       "      <td>1.0</td>\n",
       "      <td>0.0</td>\n",
       "      <td>1.0</td>\n",
       "      <td>0.0</td>\n",
       "      <td>0.0</td>\n",
       "      <td>1.0</td>\n",
       "      <td>0.0</td>\n",
       "      <td>1.0</td>\n",
       "    </tr>\n",
       "    <tr>\n",
       "      <th>557</th>\n",
       "      <td>559</td>\n",
       "      <td>NAMA 558</td>\n",
       "      <td>28.0</td>\n",
       "      <td>3</td>\n",
       "      <td>0</td>\n",
       "      <td>0</td>\n",
       "      <td>1.0</td>\n",
       "      <td>0.0</td>\n",
       "      <td>0.0</td>\n",
       "      <td>1.0</td>\n",
       "      <td>1.0</td>\n",
       "      <td>0.0</td>\n",
       "      <td>1.0</td>\n",
       "      <td>0.0</td>\n",
       "      <td>0.0</td>\n",
       "      <td>1.0</td>\n",
       "      <td>0.0</td>\n",
       "      <td>1.0</td>\n",
       "    </tr>\n",
       "    <tr>\n",
       "      <th>558</th>\n",
       "      <td>560</td>\n",
       "      <td>NAMA 559</td>\n",
       "      <td>41.0</td>\n",
       "      <td>3</td>\n",
       "      <td>1</td>\n",
       "      <td>0</td>\n",
       "      <td>1.0</td>\n",
       "      <td>0.0</td>\n",
       "      <td>0.0</td>\n",
       "      <td>1.0</td>\n",
       "      <td>1.0</td>\n",
       "      <td>0.0</td>\n",
       "      <td>1.0</td>\n",
       "      <td>0.0</td>\n",
       "      <td>0.0</td>\n",
       "      <td>1.0</td>\n",
       "      <td>0.0</td>\n",
       "      <td>1.0</td>\n",
       "    </tr>\n",
       "    <tr>\n",
       "      <th>559</th>\n",
       "      <td>561</td>\n",
       "      <td>NAMA 560</td>\n",
       "      <td>32.0</td>\n",
       "      <td>2</td>\n",
       "      <td>1</td>\n",
       "      <td>0</td>\n",
       "      <td>1.0</td>\n",
       "      <td>0.0</td>\n",
       "      <td>0.0</td>\n",
       "      <td>1.0</td>\n",
       "      <td>1.0</td>\n",
       "      <td>0.0</td>\n",
       "      <td>1.0</td>\n",
       "      <td>0.0</td>\n",
       "      <td>0.0</td>\n",
       "      <td>1.0</td>\n",
       "      <td>0.0</td>\n",
       "      <td>1.0</td>\n",
       "    </tr>\n",
       "    <tr>\n",
       "      <th>560</th>\n",
       "      <td>562</td>\n",
       "      <td>NAMA 561</td>\n",
       "      <td>30.0</td>\n",
       "      <td>2</td>\n",
       "      <td>1</td>\n",
       "      <td>0</td>\n",
       "      <td>1.0</td>\n",
       "      <td>0.0</td>\n",
       "      <td>0.0</td>\n",
       "      <td>1.0</td>\n",
       "      <td>1.0</td>\n",
       "      <td>0.0</td>\n",
       "      <td>1.0</td>\n",
       "      <td>0.0</td>\n",
       "      <td>0.0</td>\n",
       "      <td>1.0</td>\n",
       "      <td>0.0</td>\n",
       "      <td>1.0</td>\n",
       "    </tr>\n",
       "  </tbody>\n",
       "</table>\n",
       "<p>561 rows × 18 columns</p>\n",
       "</div>"
      ],
      "text/plain": [
       "      NO      NAMA  USIA  PARITAS  JARAK KELAHIRAN  PE/Non PE  \\\n",
       "0      1    NAMA 1  23.0        3                0          0   \n",
       "1      2    NAMA 2  29.0        2                0          1   \n",
       "2      3    NAMA 3  20.0        1                2          0   \n",
       "3      4    NAMA 4  18.0        1                2          0   \n",
       "4      5    NAMA 5  34.0        3                1          0   \n",
       "..   ...       ...   ...      ...              ...        ...   \n",
       "556  558  NAMA 557  40.0        3                1          0   \n",
       "557  559  NAMA 558  28.0        3                0          0   \n",
       "558  560  NAMA 559  41.0        3                1          0   \n",
       "559  561  NAMA 560  32.0        2                1          0   \n",
       "560  562  NAMA 561  30.0        2                1          0   \n",
       "\n",
       "     RIW HIPERTENSI_Tidak  RIW HIPERTENSI_Ya  RIW PE_Ada  RIW PE_Tidak  \\\n",
       "0                     1.0                0.0         0.0           1.0   \n",
       "1                     1.0                0.0         1.0           0.0   \n",
       "2                     1.0                0.0         0.0           1.0   \n",
       "3                     1.0                0.0         0.0           1.0   \n",
       "4                     1.0                0.0         0.0           1.0   \n",
       "..                    ...                ...         ...           ...   \n",
       "556                   1.0                0.0         0.0           1.0   \n",
       "557                   1.0                0.0         0.0           1.0   \n",
       "558                   1.0                0.0         0.0           1.0   \n",
       "559                   1.0                0.0         0.0           1.0   \n",
       "560                   1.0                0.0         0.0           1.0   \n",
       "\n",
       "     OBESITAS_Tidak  OBESITAS_Ya  RIW DM_Tidak  RIW DM_Ya  \\\n",
       "0               1.0          0.0           0.0        1.0   \n",
       "1               1.0          0.0           1.0        0.0   \n",
       "2               1.0          0.0           1.0        0.0   \n",
       "3               1.0          0.0           1.0        0.0   \n",
       "4               1.0          0.0           1.0        0.0   \n",
       "..              ...          ...           ...        ...   \n",
       "556             1.0          0.0           1.0        0.0   \n",
       "557             1.0          0.0           1.0        0.0   \n",
       "558             1.0          0.0           1.0        0.0   \n",
       "559             1.0          0.0           1.0        0.0   \n",
       "560             1.0          0.0           1.0        0.0   \n",
       "\n",
       "     RIW HIPERTENSI/PE DALAM KELUARGA_Ada  \\\n",
       "0                                     0.0   \n",
       "1                                     1.0   \n",
       "2                                     0.0   \n",
       "3                                     0.0   \n",
       "4                                     0.0   \n",
       "..                                    ...   \n",
       "556                                   0.0   \n",
       "557                                   0.0   \n",
       "558                                   0.0   \n",
       "559                                   0.0   \n",
       "560                                   0.0   \n",
       "\n",
       "     RIW HIPERTENSI/PE DALAM KELUARGA_Tidak  SOSEK RENDAH_<UMR  \\\n",
       "0                                       1.0                0.0   \n",
       "1                                       0.0                0.0   \n",
       "2                                       1.0                0.0   \n",
       "3                                       1.0                0.0   \n",
       "4                                       1.0                0.0   \n",
       "..                                      ...                ...   \n",
       "556                                     1.0                0.0   \n",
       "557                                     1.0                0.0   \n",
       "558                                     1.0                0.0   \n",
       "559                                     1.0                0.0   \n",
       "560                                     1.0                0.0   \n",
       "\n",
       "     SOSEK RENDAH_>UMR  \n",
       "0                  1.0  \n",
       "1                  1.0  \n",
       "2                  1.0  \n",
       "3                  1.0  \n",
       "4                  1.0  \n",
       "..                 ...  \n",
       "556                1.0  \n",
       "557                1.0  \n",
       "558                1.0  \n",
       "559                1.0  \n",
       "560                1.0  \n",
       "\n",
       "[561 rows x 18 columns]"
      ]
     },
     "execution_count": 40,
     "metadata": {},
     "output_type": "execute_result"
    }
   ],
   "source": [
    "datasets"
   ]
  },
  {
   "cell_type": "code",
   "execution_count": 41,
   "id": "a30c1129-297e-4896-b2fe-b36adc0f41f5",
   "metadata": {},
   "outputs": [],
   "source": [
    "datasets.to_csv('datasets-jadi.csv', index=False)"
   ]
  },
  {
   "cell_type": "code",
   "execution_count": null,
   "id": "c337a6ac-ec84-450b-93e7-bfd8574161e7",
   "metadata": {},
   "outputs": [],
   "source": []
  }
 ],
 "metadata": {
  "kernelspec": {
   "display_name": "Python 3 (ipykernel)",
   "language": "python",
   "name": "python3"
  },
  "language_info": {
   "codemirror_mode": {
    "name": "ipython",
    "version": 3
   },
   "file_extension": ".py",
   "mimetype": "text/x-python",
   "name": "python",
   "nbconvert_exporter": "python",
   "pygments_lexer": "ipython3",
   "version": "3.11.9"
  }
 },
 "nbformat": 4,
 "nbformat_minor": 5
}
