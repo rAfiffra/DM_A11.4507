{
 "cells": [
  {
   "cell_type": "code",
   "execution_count": 1,
   "metadata": {},
   "outputs": [
    {
     "name": "stdout",
     "output_type": "stream",
     "text": [
      "              precision    recall  f1-score   support\n",
      "\n",
      "           0       0.86      1.00      0.92         6\n",
      "           1       1.00      0.86      0.92         7\n",
      "\n",
      "    accuracy                           0.92        13\n",
      "   macro avg       0.93      0.93      0.92        13\n",
      "weighted avg       0.93      0.92      0.92        13\n",
      "\n",
      "Akurasi :  0.92\n"
     ]
    }
   ],
   "source": [
    "# impor pustaka\n",
    "import numpy as np\n",
    "from sklearn.metrics import accuracy_score\n",
    "from sklearn.metrics import classification_report\n",
    "# data prediksi dan target\n",
    "target=[1,1,1,1,1,1,1,0,0,0,0,0,0]\n",
    "prediksi=[1,1,1,1,1,0,1,0,0,0,0,0,0]\n",
    "# mengetahui akurasi \n",
    "print(classification_report(target,prediksi))\n",
    "akurasi=accuracy_score(target,prediksi)\n",
    "print(\"Akurasi : \",round(akurasi,2))\n"
   ]
  }
 ],
 "metadata": {
  "kernelspec": {
   "display_name": "Python 3",
   "language": "python",
   "name": "python3"
  },
  "language_info": {
   "codemirror_mode": {
    "name": "ipython",
    "version": 3
   },
   "file_extension": ".py",
   "mimetype": "text/x-python",
   "name": "python",
   "nbconvert_exporter": "python",
   "pygments_lexer": "ipython3",
   "version": "3.7.6"
  }
 },
 "nbformat": 4,
 "nbformat_minor": 4
}
